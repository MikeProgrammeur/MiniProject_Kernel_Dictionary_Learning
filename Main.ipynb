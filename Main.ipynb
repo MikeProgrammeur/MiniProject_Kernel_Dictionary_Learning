{
 "cells": [
  {
   "cell_type": "markdown",
   "metadata": {},
   "source": [
    "# Implementation of Kernel Dictionary learning"
   ]
  },
  {
   "cell_type": "markdown",
   "metadata": {},
   "source": [
    "Import area :"
   ]
  },
  {
   "cell_type": "code",
   "execution_count": 3,
   "metadata": {},
   "outputs": [],
   "source": [
    "import Signal as sg\n",
    "import Kernel as kn\n",
    "import KernelDictionaryLearning as kdl\n",
    "import numpy as np\n",
    "import matplotlib.pyplot as plt"
   ]
  },
  {
   "cell_type": "markdown",
   "metadata": {},
   "source": [
    "Instancing all objects : "
   ]
  },
  {
   "cell_type": "code",
   "execution_count": 4,
   "metadata": {},
   "outputs": [
    {
     "ename": "AttributeError",
     "evalue": "'Signals' object has no attribute 'get_signal'",
     "output_type": "error",
     "traceback": [
      "\u001b[1;31m---------------------------------------------------------------------------\u001b[0m",
      "\u001b[1;31mAttributeError\u001b[0m                            Traceback (most recent call last)",
      "Cell \u001b[1;32mIn[4], line 5\u001b[0m\n\u001b[0;32m      3\u001b[0m signals_r2 \u001b[38;5;241m=\u001b[39m sg\u001b[38;5;241m.\u001b[39msynthetic_circle(radius\u001b[38;5;241m=\u001b[39m\u001b[38;5;241m2\u001b[39m,data_number\u001b[38;5;241m=\u001b[39m\u001b[38;5;241m1500\u001b[39m)\n\u001b[0;32m      4\u001b[0m trained_kdl_r1 \u001b[38;5;241m=\u001b[39m kdl\u001b[38;5;241m.\u001b[39mKernelDictionaryLearning(signals\u001b[38;5;241m=\u001b[39msignals_r1,kernel\u001b[38;5;241m=\u001b[39mpolynomial_kernel,sparsity_level\u001b[38;5;241m=\u001b[39m\u001b[38;5;241m3\u001b[39m,atom_number\u001b[38;5;241m=\u001b[39m\u001b[38;5;241m30\u001b[39m,n_iter\u001b[38;5;241m=\u001b[39m\u001b[38;5;241m80\u001b[39m)\n\u001b[1;32m----> 5\u001b[0m \u001b[43mtrained_kdl_r1\u001b[49m\u001b[38;5;241;43m.\u001b[39;49m\u001b[43mlearn\u001b[49m\u001b[43m(\u001b[49m\u001b[43m)\u001b[49m\n\u001b[0;32m      6\u001b[0m trained_kdl_r2 \u001b[38;5;241m=\u001b[39m kdl\u001b[38;5;241m.\u001b[39mKernelDictionaryLearning(signals\u001b[38;5;241m=\u001b[39msignals_r2,kernel\u001b[38;5;241m=\u001b[39mpolynomial_kernel,sparsity_level\u001b[38;5;241m=\u001b[39m\u001b[38;5;241m3\u001b[39m,atom_number\u001b[38;5;241m=\u001b[39m\u001b[38;5;241m30\u001b[39m,n_iter\u001b[38;5;241m=\u001b[39m\u001b[38;5;241m80\u001b[39m)\n\u001b[0;32m      7\u001b[0m test \u001b[38;5;241m=\u001b[39m trained_kdl_r2\u001b[38;5;241m.\u001b[39mlearn()\n",
      "File \u001b[1;32me:\\Scolaire\\MVA\\MLTS\\MiniProjet\\MiniProject_Kernel_Dictionary_Learning\\KernelDictionaryLearning.py:107\u001b[0m, in \u001b[0;36mKernelDictionaryLearning.learn\u001b[1;34m(self)\u001b[0m\n\u001b[0;32m    106\u001b[0m \u001b[38;5;28;01mdef\u001b[39;00m \u001b[38;5;21mlearn\u001b[39m(\u001b[38;5;28mself\u001b[39m):\n\u001b[1;32m--> 107\u001b[0m     \u001b[38;5;28mself\u001b[39m\u001b[38;5;241m.\u001b[39m__KYY \u001b[38;5;241m=\u001b[39m \u001b[38;5;28;43mself\u001b[39;49m\u001b[38;5;241;43m.\u001b[39;49m\u001b[43mgen_KYY\u001b[49m\u001b[43m(\u001b[49m\u001b[43m)\u001b[49m \n\u001b[0;32m    109\u001b[0m     \u001b[38;5;28;01mfor\u001b[39;00m i \u001b[38;5;129;01min\u001b[39;00m \u001b[38;5;28mrange\u001b[39m(\u001b[38;5;28mself\u001b[39m\u001b[38;5;241m.\u001b[39m__n_iter):\n\u001b[0;32m    110\u001b[0m         \u001b[38;5;66;03m# ALTERNATE n_iter TIMES sparse coding : (1) and dictionary update : (2)\u001b[39;00m\n\u001b[0;32m    111\u001b[0m         \u001b[38;5;28;01mfor\u001b[39;00m j \u001b[38;5;129;01min\u001b[39;00m \u001b[38;5;28mrange\u001b[39m(\u001b[38;5;28mself\u001b[39m\u001b[38;5;241m.\u001b[39m__n):\n",
      "File \u001b[1;32me:\\Scolaire\\MVA\\MLTS\\MiniProjet\\MiniProject_Kernel_Dictionary_Learning\\KernelDictionaryLearning.py:20\u001b[0m, in \u001b[0;36mKernelDictionaryLearning.gen_KYY\u001b[1;34m(self)\u001b[0m\n\u001b[0;32m     18\u001b[0m \u001b[38;5;28;01mfor\u001b[39;00m i \u001b[38;5;129;01min\u001b[39;00m \u001b[38;5;28mrange\u001b[39m(\u001b[38;5;28mself\u001b[39m\u001b[38;5;241m.\u001b[39m__n):\n\u001b[0;32m     19\u001b[0m     \u001b[38;5;28;01mfor\u001b[39;00m j \u001b[38;5;129;01min\u001b[39;00m \u001b[38;5;28mrange\u001b[39m(i\u001b[38;5;241m+\u001b[39m\u001b[38;5;241m1\u001b[39m):\n\u001b[1;32m---> 20\u001b[0m         mat[i,j] \u001b[38;5;241m=\u001b[39m \u001b[38;5;28mself\u001b[39m\u001b[38;5;241m.\u001b[39m__kernel\u001b[38;5;241m.\u001b[39mevaluate(\u001b[38;5;28;43mself\u001b[39;49m\u001b[38;5;241;43m.\u001b[39;49m\u001b[43m__signals\u001b[49m\u001b[38;5;241;43m.\u001b[39;49m\u001b[43mget_signal\u001b[49m(i),\u001b[38;5;28mself\u001b[39m\u001b[38;5;241m.\u001b[39m__signals\u001b[38;5;241m.\u001b[39mget_signal(j))\n\u001b[0;32m     21\u001b[0m         \u001b[38;5;28;01mif\u001b[39;00m i\u001b[38;5;241m!=\u001b[39mj:\n\u001b[0;32m     22\u001b[0m             mat[j,i] \u001b[38;5;241m=\u001b[39m mat[i,j]\n",
      "\u001b[1;31mAttributeError\u001b[0m: 'Signals' object has no attribute 'get_signal'"
     ]
    }
   ],
   "source": [
    "polynomial_kernel = kn.polynomial_kernel(c=0,d=2)\n",
    "signals_r1 = sg.synthetic_circle(radius=1,data_number=1500)\n",
    "signals_r2 = sg.synthetic_circle(radius=2,data_number=1500)\n",
    "trained_kdl_r1 = kdl.KernelDictionaryLearning(signals=signals_r1,kernel=polynomial_kernel,sparsity_level=3,atom_number=30,n_iter=80)\n",
    "trained_kdl_r1.learn()\n",
    "trained_kdl_r2 = kdl.KernelDictionaryLearning(signals=signals_r2,kernel=polynomial_kernel,sparsity_level=3,atom_number=30,n_iter=80)\n",
    "test = trained_kdl_r2.learn()"
   ]
  },
  {
   "cell_type": "code",
   "execution_count": null,
   "metadata": {},
   "outputs": [],
   "source": [
    "print(test)"
   ]
  },
  {
   "cell_type": "code",
   "execution_count": null,
   "metadata": {},
   "outputs": [],
   "source": []
  }
 ],
 "metadata": {
  "kernelspec": {
   "display_name": "Python 3",
   "language": "python",
   "name": "python3"
  },
  "language_info": {
   "codemirror_mode": {
    "name": "ipython",
    "version": 3
   },
   "file_extension": ".py",
   "mimetype": "text/x-python",
   "name": "python",
   "nbconvert_exporter": "python",
   "pygments_lexer": "ipython3",
   "version": "3.12.5"
  }
 },
 "nbformat": 4,
 "nbformat_minor": 2
}
